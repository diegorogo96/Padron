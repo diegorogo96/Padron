{
 "cells": [
  {
   "cell_type": "code",
   "execution_count": 3,
   "metadata": {},
   "outputs": [
    {
     "data": {
      "text/plain": [
       "import org.apache.spark.sql.SparkSession\r\n",
       "spark: org.apache.spark.sql.SparkSession = org.apache.spark.sql.SparkSession@2df8a826\r\n"
      ]
     },
     "execution_count": 3,
     "metadata": {},
     "output_type": "execute_result"
    }
   ],
   "source": [
    "import org.apache.spark.sql.SparkSession\n",
    "\n",
    "val spark = SparkSession\n",
    "    .builder\n",
    "    .appName(\"Padron\")\n",
    "    .getOrCreate()"
   ]
  },
  {
   "cell_type": "code",
   "execution_count": 4,
   "metadata": {},
   "outputs": [
    {
     "data": {
      "text/plain": [
       "file: String = ./padron/Rango_Edades_Seccion_202104.csv\r\n",
       "schema: String = COD_DISTRITO int, DESC_DISTRITO string, COD_DIST_BARRIO int, DESC_BARRIO string, COD_BARRIO int, COD_DIST_SECCION int, COD_SECCION int, COD_EDAD_INT int, EspanolesHombres int, EspanolesMujeres int, ExtranjerosHombres int, ExtranjerosMujeres int\r\n"
      ]
     },
     "execution_count": 4,
     "metadata": {},
     "output_type": "execute_result"
    }
   ],
   "source": [
    "val file = \"./padron/Rango_Edades_Seccion_202104.csv\"\n",
    "val schema = \"COD_DISTRITO int, DESC_DISTRITO string, COD_DIST_BARRIO int, DESC_BARRIO string, \" +\n",
    "\"COD_BARRIO int, COD_DIST_SECCION int, COD_SECCION int, COD_EDAD_INT int, EspanolesHombres int, \" +\n",
    "\"EspanolesMujeres int, ExtranjerosHombres int, ExtranjerosMujeres int\""
   ]
  },
  {
   "cell_type": "code",
   "execution_count": 5,
   "metadata": {},
   "outputs": [
    {
     "data": {
      "text/plain": [
       "df: org.apache.spark.sql.DataFrame = [COD_DISTRITO: int, DESC_DISTRITO: string ... 10 more fields]\r\n"
      ]
     },
     "execution_count": 5,
     "metadata": {},
     "output_type": "execute_result"
    }
   ],
   "source": [
    "val df = spark.read.format(\"csv\")\n",
    "    .option(\"header\", \"true\")\n",
    "    .schema(schema) \n",
    "    .option(\"sep\", \";\")\n",
    "    .load(file)\n",
    "    .na.fill(0)"
   ]
  },
  {
   "cell_type": "code",
   "execution_count": 6,
   "metadata": {},
   "outputs": [
    {
     "name": "stdout",
     "output_type": "stream",
     "text": [
      "root\n",
      " |-- COD_DISTRITO: integer (nullable = false)\n",
      " |-- DESC_DISTRITO: string (nullable = true)\n",
      " |-- COD_DIST_BARRIO: integer (nullable = false)\n",
      " |-- DESC_BARRIO: string (nullable = true)\n",
      " |-- COD_BARRIO: integer (nullable = false)\n",
      " |-- COD_DIST_SECCION: integer (nullable = false)\n",
      " |-- COD_SECCION: integer (nullable = false)\n",
      " |-- COD_EDAD_INT: integer (nullable = false)\n",
      " |-- EspanolesHombres: integer (nullable = false)\n",
      " |-- EspanolesMujeres: integer (nullable = false)\n",
      " |-- ExtranjerosHombres: integer (nullable = false)\n",
      " |-- ExtranjerosMujeres: integer (nullable = false)\n",
      "\n",
      "()\n"
     ]
    }
   ],
   "source": [
    "println(df.printSchema)"
   ]
  },
  {
   "cell_type": "code",
   "execution_count": 7,
   "metadata": {},
   "outputs": [
    {
     "name": "stdout",
     "output_type": "stream",
     "text": [
      "+------------------+\n",
      "|ExtranjerosHombres|\n",
      "+------------------+\n",
      "|                 0|\n",
      "|                 0|\n",
      "|                 0|\n",
      "|                 0|\n",
      "|                 0|\n",
      "+------------------+\n",
      "only showing top 5 rows\n",
      "\r\n"
     ]
    }
   ],
   "source": [
    "df.select(\"ExtranjerosHombres\").show(5)"
   ]
  },
  {
   "cell_type": "code",
   "execution_count": 64,
   "metadata": {},
   "outputs": [
    {
     "name": "stdout",
     "output_type": "stream",
     "text": [
      "+------------+--------------------+---------------+--------------------+----------+----------------+-----------+------------+----------------+----------------+------------------+------------------+\n",
      "|COD_DISTRITO|       DESC_DISTRITO|COD_DIST_BARRIO|         DESC_BARRIO|COD_BARRIO|COD_DIST_SECCION|COD_SECCION|COD_EDAD_INT|EspanolesHombres|EspanolesMujeres|ExtranjerosHombres|ExtranjerosMujeres|\n",
      "+------------+--------------------+---------------+--------------------+----------+----------------+-----------+------------+----------------+----------------+------------------+------------------+\n",
      "|           1|CENTRO              |            101|PALACIO             |         1|            1006|          6|          97|               1|               0|                 0|                 0|\n",
      "|           1|CENTRO              |            101|PALACIO             |         1|            1006|          6|          98|               1|               1|                 0|                 0|\n",
      "|           1|CENTRO              |            101|PALACIO             |         1|            1006|          6|          99|               0|               1|                 0|                 0|\n",
      "|           1|CENTRO              |            101|PALACIO             |         1|            1006|          6|         100|               0|               1|                 0|                 0|\n",
      "|           1|CENTRO              |            101|PALACIO             |         1|            1006|          6|         103|               0|               1|                 0|                 0|\n",
      "+------------+--------------------+---------------+--------------------+----------+----------------+-----------+------------+----------------+----------------+------------------+------------------+\n",
      "only showing top 5 rows\n",
      "\r\n"
     ]
    }
   ],
   "source": [
    "df.show(5)"
   ]
  },
  {
   "cell_type": "code",
   "execution_count": 71,
   "metadata": {},
   "outputs": [
    {
     "name": "stdout",
     "output_type": "stream",
     "text": [
      "+--------------------+\n",
      "|desc_barrio         |\n",
      "+--------------------+\n",
      "|EMBAJADORES         |\n",
      "|SANTA EUGENIA       |\n",
      "|LEGAZPI             |\n",
      "|DELICIAS            |\n",
      "|CIUDAD UNIVERSITARIA|\n",
      "|CONCEPCION          |\n",
      "|VENTAS              |\n",
      "|IMPERIAL            |\n",
      "|SAN FERMIN          |\n",
      "|TRAFALGAR           |\n",
      "|ESTRELLA            |\n",
      "|PUERTA BONITA       |\n",
      "|ALUCHE              |\n",
      "|ADELFAS             |\n",
      "|PUEBLO NUEVO        |\n",
      "|PALOMAS             |\n",
      "|CORRALEJOS          |\n",
      "|VALDEZARZA          |\n",
      "|LOS CARMENES        |\n",
      "|PUERTA DEL ANGEL    |\n",
      "|ORCASITAS           |\n",
      "|OPA?EL              |\n",
      "|SAN ISIDRO          |\n",
      "|ZOFIO               |\n",
      "|LOS JERONIMOS       |\n",
      "|ARCOS               |\n",
      "|QUINTANA            |\n",
      "|AEROPUERTO          |\n",
      "|FUENTELARREINA      |\n",
      "|VALLEHERMOSO        |\n",
      "|CANILLAS            |\n",
      "|PALACIO             |\n",
      "|ALMENDRALES         |\n",
      "|SAN CRISTOBAL       |\n",
      "|CORTES              |\n",
      "|CASTELLANA          |\n",
      "|EL SALVADOR         |\n",
      "|CHOPERA             |\n",
      "|SAN JUAN BAUTISTA   |\n",
      "|CUATRO CAMINOS      |\n",
      "|VALVERDE            |\n",
      "|FONTARRON           |\n",
      "|SOL                 |\n",
      "|PALOMERAS SURESTE   |\n",
      "|LOS ROSALES         |\n",
      "|CANILLEJAS          |\n",
      "|ATOCHA              |\n",
      "|CUATRO VIENTOS      |\n",
      "|BERRUGUETE          |\n",
      "|CASA DE CAMPO       |\n",
      "|ALMAGRO             |\n",
      "|ACACIAS             |\n",
      "|BUENAVISTA          |\n",
      "|APOSTOL SANTIAGO    |\n",
      "|PALOMERAS BAJAS     |\n",
      "|CASTILLEJOS         |\n",
      "|CASCO H.BARAJAS     |\n",
      "|PAVONES             |\n",
      "|AMPOSTA             |\n",
      "|PE?A GRANDE         |\n",
      "|EL PARDO            |\n",
      "|COSTILLARES         |\n",
      "|COLINA              |\n",
      "|GUINDALERA          |\n",
      "|MEDIA LEGUA         |\n",
      "|EL CA?AVERAL        |\n",
      "|ALAMEDA DE OSUNA    |\n",
      "|BUTARQUE            |\n",
      "|CAMPAMENTO          |\n",
      "|MARROQUINA          |\n",
      "|LAS AGUILAS         |\n",
      "|ENSANCHE DE VALLECAS|\n",
      "|UNIVERSIDAD         |\n",
      "|HISPANOAMERICA      |\n",
      "|PIOVERA             |\n",
      "|LISTA               |\n",
      "|EL PILAR            |\n",
      "|TIMON               |\n",
      "|JUSTICIA            |\n",
      "|SAN PASCUAL         |\n",
      "|VALDEACEDERAS       |\n",
      "|ENTREVIAS           |\n",
      "|ORCASUR             |\n",
      "|PRADOLONGO          |\n",
      "|ALMENARA            |\n",
      "|GOYA                |\n",
      "|VALDEMARIN          |\n",
      "|PROSPERIDAD         |\n",
      "|CASTILLA            |\n",
      "|RECOLETOS           |\n",
      "|NUMANCIA            |\n",
      "|ARGUELLES           |\n",
      "|FUENTE DEL BERRO    |\n",
      "|MIRASIERRA          |\n",
      "|ABRANTES            |\n",
      "|RIOS ROSAS          |\n",
      "|VINATEROS           |\n",
      "|CASCO H.VALLECAS    |\n",
      "|PINAR DEL REY       |\n",
      "|LOS ANGELES         |\n",
      "|EL VISO             |\n",
      "|GAZTAMBIDE          |\n",
      "|VALDEFUENTES        |\n",
      "|REJAS               |\n",
      "|VALDERRIVAS         |\n",
      "|BARRIOS EN EDIF. BDC|\n",
      "|CASCO H.VICALVARO   |\n",
      "|VALDEBERNARDO       |\n",
      "|LA PAZ              |\n",
      "|EL PLANTIO          |\n",
      "|PACIFICO            |\n",
      "|PALOS DE MOGUER     |\n",
      "|PORTAZGO            |\n",
      "|VISTA ALEGRE        |\n",
      "|SAN DIEGO           |\n",
      "|ARAVACA             |\n",
      "|HORCAJO             |\n",
      "|BELLAS VISTAS       |\n",
      "|CIUDAD JARDIN       |\n",
      "|IBIZA               |\n",
      "|COMILLAS            |\n",
      "|ATALAYA             |\n",
      "|NUEVA ESPA?A        |\n",
      "|MOSCARDO            |\n",
      "|SIMANCAS            |\n",
      "|ROSAS               |\n",
      "|ARAPILES            |\n",
      "|EL GOLOSO           |\n",
      "|NI?O JESUS          |\n",
      "|LUCERO              |\n",
      "|HELLIN              |\n",
      "|VILLAVERDE ALTO C.H.|\n",
      "+--------------------+\n",
      "\r\n"
     ]
    }
   ],
   "source": [
    "df.select(\"desc_barrio\").distinct.show(500, false)"
   ]
  },
  {
   "cell_type": "code",
   "execution_count": 8,
   "metadata": {},
   "outputs": [],
   "source": [
    "df.createOrReplaceTempView(\"padron\")"
   ]
  },
  {
   "cell_type": "code",
   "execution_count": 9,
   "metadata": {},
   "outputs": [
    {
     "name": "stdout",
     "output_type": "stream",
     "text": [
      "+---------------------------+\n",
      "|count(DISTINCT desc_barrio)|\n",
      "+---------------------------+\n",
      "|                        132|\n",
      "+---------------------------+\n",
      "\r\n"
     ]
    }
   ],
   "source": [
    "spark.sql(\"\"\"select count(distinct desc_barrio) from padron\"\"\").show()"
   ]
  },
  {
   "cell_type": "code",
   "execution_count": 10,
   "metadata": {},
   "outputs": [
    {
     "name": "stdout",
     "output_type": "stream",
     "text": [
      "+--------+\n",
      "|longitud|\n",
      "+--------+\n",
      "|      20|\n",
      "|      20|\n",
      "|      20|\n",
      "|      20|\n",
      "|      20|\n",
      "|      20|\n",
      "|      20|\n",
      "|      20|\n",
      "|      20|\n",
      "|      20|\n",
      "|      20|\n",
      "|      20|\n",
      "|      20|\n",
      "|      20|\n",
      "|      20|\n",
      "|      20|\n",
      "|      20|\n",
      "|      20|\n",
      "|      20|\n",
      "|      20|\n",
      "+--------+\n",
      "only showing top 20 rows\n",
      "\r\n"
     ]
    },
    {
     "data": {
      "text/plain": [
       "df2: org.apache.spark.sql.DataFrame = [COD_DISTRITO: int, DESC_DISTRITO: string ... 11 more fields]\r\n"
      ]
     },
     "execution_count": 10,
     "metadata": {},
     "output_type": "execute_result"
    }
   ],
   "source": [
    "val df2 = df.withColumn(\"longitud\", length(col(\"desc_distrito\")))\n",
    "\n",
    "df2.select(\"longitud\").show()"
   ]
  },
  {
   "cell_type": "code",
   "execution_count": 11,
   "metadata": {},
   "outputs": [
    {
     "name": "stdout",
     "output_type": "stream",
     "text": [
      "+------------+--------------------+---------------+--------------------+----------+----------------+-----------+------------+----------------+----------------+------------------+------------------+-------+\n",
      "|COD_DISTRITO|       DESC_DISTRITO|COD_DIST_BARRIO|         DESC_BARRIO|COD_BARRIO|COD_DIST_SECCION|COD_SECCION|COD_EDAD_INT|EspanolesHombres|EspanolesMujeres|ExtranjerosHombres|ExtranjerosMujeres|Valor 5|\n",
      "+------------+--------------------+---------------+--------------------+----------+----------------+-----------+------------+----------------+----------------+------------------+------------------+-------+\n",
      "|           1|CENTRO              |            101|PALACIO             |         1|            1006|          6|          97|               1|               0|                 0|                 0|      5|\n",
      "|           1|CENTRO              |            101|PALACIO             |         1|            1006|          6|          98|               1|               1|                 0|                 0|      5|\n",
      "|           1|CENTRO              |            101|PALACIO             |         1|            1006|          6|          99|               0|               1|                 0|                 0|      5|\n",
      "|           1|CENTRO              |            101|PALACIO             |         1|            1006|          6|         100|               0|               1|                 0|                 0|      5|\n",
      "|           1|CENTRO              |            101|PALACIO             |         1|            1006|          6|         103|               0|               1|                 0|                 0|      5|\n",
      "|           1|CENTRO              |            101|PALACIO             |         1|            1007|          7|           0|               3|               1|                 0|                 2|      5|\n",
      "|           1|CENTRO              |            101|PALACIO             |         1|            1007|          7|           1|               2|               2|                 0|                 1|      5|\n",
      "|           1|CENTRO              |            101|PALACIO             |         1|            1007|          7|           2|               1|               3|                 0|                 0|      5|\n",
      "|           1|CENTRO              |            101|PALACIO             |         1|            1007|          7|           3|               4|               1|                 0|                 0|      5|\n",
      "|           1|CENTRO              |            101|PALACIO             |         1|            1007|          7|           4|               1|               2|                 0|                 0|      5|\n",
      "|           1|CENTRO              |            101|PALACIO             |         1|            1007|          7|           5|               0|               5|                 0|                 1|      5|\n",
      "|           1|CENTRO              |            101|PALACIO             |         1|            1007|          7|           6|               1|               1|                 0|                 0|      5|\n",
      "|           1|CENTRO              |            101|PALACIO             |         1|            1007|          7|           7|               3|               2|                 0|                 0|      5|\n",
      "|           1|CENTRO              |            101|PALACIO             |         1|            1007|          7|           8|               4|               2|                 0|                 0|      5|\n",
      "|           1|CENTRO              |            101|PALACIO             |         1|            1007|          7|           9|               2|               2|                 0|                 0|      5|\n",
      "|           1|CENTRO              |            101|PALACIO             |         1|            1007|          7|          10|               3|               2|                 1|                 0|      5|\n",
      "|           1|CENTRO              |            101|PALACIO             |         1|            1007|          7|          11|               3|               3|                 0|                 0|      5|\n",
      "|           1|CENTRO              |            101|PALACIO             |         1|            1007|          7|          12|               3|               2|                 1|                 0|      5|\n",
      "|           1|CENTRO              |            101|PALACIO             |         1|            1007|          7|          13|               1|               2|                 0|                 0|      5|\n",
      "|           1|CENTRO              |            101|PALACIO             |         1|            1007|          7|          14|               4|               1|                 0|                 0|      5|\n",
      "+------------+--------------------+---------------+--------------------+----------+----------------+-----------+------------+----------------+----------------+------------------+------------------+-------+\n",
      "only showing top 20 rows\n",
      "\r\n"
     ]
    },
    {
     "data": {
      "text/plain": [
       "df3: org.apache.spark.sql.DataFrame = [COD_DISTRITO: int, DESC_DISTRITO: string ... 11 more fields]\r\n"
      ]
     },
     "execution_count": 11,
     "metadata": {},
     "output_type": "execute_result"
    }
   ],
   "source": [
    "val df3 = df.withColumn(\"Valor 5\", lit(\"5\"))\n",
    "\n",
    "df3.show()"
   ]
  },
  {
   "cell_type": "code",
   "execution_count": 88,
   "metadata": {},
   "outputs": [],
   "source": [
    "df.write.partitionBy(\"DESC_DISTRITO\",\"DESC_BARRIO\").mode(\"overwrite\").saveAsTable(\"partitioned\")"
   ]
  },
  {
   "cell_type": "code",
   "execution_count": 89,
   "metadata": {},
   "outputs": [],
   "source": [
    "df.write.format(\"csv\").partitionBy(\"DESC_DISTRITO\",\"DESC_BARRIO\").mode(\"overwrite\")\n",
    "    .save(\"./particion\")"
   ]
  },
  {
   "cell_type": "code",
   "execution_count": 12,
   "metadata": {},
   "outputs": [
    {
     "data": {
      "text/plain": [
       "file_part: String = ./particion\r\n",
       "df_part: org.apache.spark.sql.DataFrame = [COD_DISTRITO: int, COD_DIST_BARRIO: int ... 10 more fields]\r\n"
      ]
     },
     "execution_count": 12,
     "metadata": {},
     "output_type": "execute_result"
    }
   ],
   "source": [
    "val file_part = \"./particion\"\n",
    "\n",
    "\n",
    "\n",
    "val df_part = spark.read.format(\"csv\")\n",
    "    .option(\"header\", \"true\")\n",
    "    .schema(schema) \n",
    "    .option(\"sep\", \";\")\n",
    "    .load(file_part)\n",
    "    .na.fill(0)"
   ]
  },
  {
   "cell_type": "code",
   "execution_count": 93,
   "metadata": {},
   "outputs": [
    {
     "data": {
      "text/plain": [
       "res63: df_part.type = [COD_DISTRITO: int, COD_DIST_BARRIO: int ... 10 more fields]\r\n"
      ]
     },
     "execution_count": 93,
     "metadata": {},
     "output_type": "execute_result"
    }
   ],
   "source": [
    "df_part.cache()"
   ]
  },
  {
   "cell_type": "code",
   "execution_count": 104,
   "metadata": {},
   "outputs": [
    {
     "name": "stdout",
     "output_type": "stream",
     "text": [
      "+--------------------+--------------------+---------------------+---------------------+-----------------------+-----------------------+\n",
      "|       desc_distrito|         desc_barrio|sum(espanoleshombres)|sum(espanolesmujeres)|sum(extranjeroshombres)|sum(extranjerosmujeres)|\n",
      "+--------------------+--------------------+---------------------+---------------------+-----------------------+-----------------------+\n",
      "|CARABANCHEL         |VISTA ALEGRE        |                    0|                    0|                      0|                      0|\n",
      "|MORATALAZ           |VINATEROS           |                    0|                    0|                      0|                      0|\n",
      "|SAN BLAS-CANILLEJAS |SIMANCAS            |                    0|                    0|                      0|                      0|\n",
      "|CARABANCHEL         |PUERTA BONITA       |                    0|                    0|                      0|                      0|\n",
      "|ARGANZUELA          |LEGAZPI             |                    0|                    0|                      0|                      0|\n",
      "|VICALVARO           |VALDEBERNARDO       |                    0|                    0|                      0|                      0|\n",
      "|ARGANZUELA          |DELICIAS            |                    0|                    0|                      0|                      0|\n",
      "|CHAMARTIN           |CIUDAD JARDIN       |                    0|                    0|                      0|                      0|\n",
      "|ARGANZUELA          |ATOCHA              |                    0|                    0|                      0|                      0|\n",
      "|CHAMBERI            |RIOS ROSAS          |                    0|                    0|                      0|                      0|\n",
      "|MORATALAZ           |FONTARRON           |                    0|                    0|                      0|                      0|\n",
      "|CIUDAD LINEAL       |SAN JUAN BAUTISTA   |                    0|                    0|                      0|                      0|\n",
      "|VILLA DE VALLECAS   |CASCO H.VALLECAS    |                    0|                    0|                      0|                      0|\n",
      "|CIUDAD LINEAL       |COSTILLARES         |                    0|                    0|                      0|                      0|\n",
      "|USERA               |ORCASITAS           |                    0|                    0|                      0|                      0|\n",
      "|LATINA              |CUATRO VIENTOS      |                    0|                    0|                      0|                      0|\n",
      "|FUENCARRAL-EL PARDO |FUENTELARREINA      |                    0|                    0|                      0|                      0|\n",
      "|TETUAN              |VALDEACEDERAS       |                    0|                    0|                      0|                      0|\n",
      "|VILLA DE VALLECAS   |SANTA EUGENIA       |                    0|                    0|                      0|                      0|\n",
      "|CENTRO              |CORTES              |                    0|                    0|                      0|                      0|\n",
      "+--------------------+--------------------+---------------------+---------------------+-----------------------+-----------------------+\n",
      "only showing top 20 rows\n",
      "\r\n"
     ]
    }
   ],
   "source": [
    "df_part.groupBy(\"desc_distrito\", \"desc_barrio\")\n",
    "    .agg(sum(\"espanoleshombres\"), sum(\"espanolesmujeres\"), \n",
    "    sum(\"extranjeroshombres\"), sum(\"extranjerosmujeres\"))\n",
    "    .orderBy(\"sum(extranjerosmujeres)\", \"sum(extranjeroshombres)\")\n",
    "    .show()"
   ]
  },
  {
   "cell_type": "code",
   "execution_count": 105,
   "metadata": {},
   "outputs": [
    {
     "data": {
      "text/plain": [
       "res73: df_part.type = [COD_DISTRITO: int, COD_DIST_BARRIO: int ... 10 more fields]\r\n"
      ]
     },
     "execution_count": 105,
     "metadata": {},
     "output_type": "execute_result"
    }
   ],
   "source": [
    "df_part.unpersist()"
   ]
  },
  {
   "cell_type": "code",
   "execution_count": 106,
   "metadata": {},
   "outputs": [
    {
     "name": "stdout",
     "output_type": "stream",
     "text": [
      "+--------------------+--------------------+---------------------+---------------------+-----------------------+-----------------------+\n",
      "|       desc_distrito|         desc_barrio|sum(espanoleshombres)|sum(espanolesmujeres)|sum(extranjeroshombres)|sum(extranjerosmujeres)|\n",
      "+--------------------+--------------------+---------------------+---------------------+-----------------------+-----------------------+\n",
      "|LATINA              |BARRIOS EN EDIF. BDC|                    0|                    1|                      0|                      0|\n",
      "|ARGANZUELA          |ATOCHA              |                  693|                  705|                     34|                     59|\n",
      "|FUENCARRAL-EL PARDO |EL PARDO            |                 1657|                 1624|                     71|                     93|\n",
      "|CIUDAD LINEAL       |ATALAYA             |                  604|                  794|                     90|                    104|\n",
      "|FUENCARRAL-EL PARDO |FUENTELARREINA      |                 1446|                 1669|                     68|                    181|\n",
      "|MORATALAZ           |HORCAJO             |                 2872|                 3128|                    173|                    191|\n",
      "|MONCLOA-ARAVACA     |EL PLANTIO          |                 1224|                 1401|                    133|                    195|\n",
      "|BARAJAS             |AEROPUERTO          |                  772|                  714|                    212|                    221|\n",
      "|LATINA              |CUATRO VIENTOS      |                 2689|                 2728|                    261|                    248|\n",
      "|BARAJAS             |CORRALEJOS          |                 3558|                 3604|                    221|                    282|\n",
      "|VICALVARO           |EL CA?AVERAL        |                 2441|                 2287|                    213|                    298|\n",
      "|CIUDAD LINEAL       |COLINA              |                 2541|                 3139|                    322|                    364|\n",
      "|VICALVARO           |VALDERRIVAS         |                 8459|                 8821|                    295|                    379|\n",
      "|MONCLOA-ARAVACA     |VALDEMARIN          |                 2999|                 3287|                    205|                    404|\n",
      "|HORTALEZA           |PALOMAS             |                 3023|                 3117|                    349|                    419|\n",
      "|RETIRO              |LOS JERONIMOS       |                 2888|                 3228|                    334|                    448|\n",
      "|MORATALAZ           |PAVONES             |                 3634|                 4359|                    425|                    504|\n",
      "|SAN BLAS-CANILLEJAS |EL SALVADOR         |                 4887|                 5449|                    456|                    552|\n",
      "|RETIRO              |NI?O JESUS          |                 6604|                 7756|                    340|                    599|\n",
      "|FUENCARRAL-EL PARDO |EL GOLOSO           |                 8870|                 8967|                    520|                    614|\n",
      "+--------------------+--------------------+---------------------+---------------------+-----------------------+-----------------------+\n",
      "only showing top 20 rows\n",
      "\r\n"
     ]
    }
   ],
   "source": [
    "df.groupBy(\"desc_distrito\", \"desc_barrio\")\n",
    "    .agg(sum(\"espanoleshombres\"), sum(\"espanolesmujeres\"), \n",
    "    sum(\"extranjeroshombres\"), sum(\"extranjerosmujeres\"))\n",
    "    .orderBy(\"sum(extranjerosmujeres)\", \"sum(extranjeroshombres)\")\n",
    "    .show()"
   ]
  },
  {
   "cell_type": "code",
   "execution_count": 13,
   "metadata": {},
   "outputs": [
    {
     "data": {
      "text/plain": [
       "nuevoDF: org.apache.spark.sql.DataFrame = [desc_distrito: string, desc_barrio: string ... 1 more field]\r\n"
      ]
     },
     "execution_count": 13,
     "metadata": {},
     "output_type": "execute_result"
    }
   ],
   "source": [
    "val nuevoDF = df.groupBy(\"desc_distrito\", \"desc_barrio\")\n",
    "    .agg(sum(\"espanoleshombres\") as \"espanoleshombres\")"
   ]
  },
  {
   "cell_type": "code",
   "execution_count": 14,
   "metadata": {},
   "outputs": [
    {
     "name": "stdout",
     "output_type": "stream",
     "text": [
      "+--------------------+--------------------+----------------+\n",
      "|       desc_distrito|         desc_barrio|espanoleshombres|\n",
      "+--------------------+--------------------+----------------+\n",
      "|TETUAN              |VALDEACEDERAS       |            9552|\n",
      "|CHAMARTIN           |CIUDAD JARDIN       |            7305|\n",
      "|ARGANZUELA          |DELICIAS            |           11743|\n",
      "|MORATALAZ           |VINATEROS           |            6470|\n",
      "|CARABANCHEL         |VISTA ALEGRE        |           16016|\n",
      "|SAN BLAS-CANILLEJAS |SIMANCAS            |           10737|\n",
      "|CARABANCHEL         |PUERTA BONITA       |           12565|\n",
      "|ARGANZUELA          |LEGAZPI             |            8879|\n",
      "|VICALVARO           |VALDEBERNARDO       |            7720|\n",
      "|ARGANZUELA          |ATOCHA              |             693|\n",
      "|CHAMBERI            |RIOS ROSAS          |           10541|\n",
      "|MORATALAZ           |FONTARRON           |            6617|\n",
      "|CIUDAD LINEAL       |SAN JUAN BAUTISTA   |            5213|\n",
      "|VILLA DE VALLECAS   |CASCO H.VALLECAS    |           15692|\n",
      "|VILLA DE VALLECAS   |SANTA EUGENIA       |           10395|\n",
      "|CIUDAD LINEAL       |COSTILLARES         |            9869|\n",
      "|USERA               |ORCASITAS           |            9811|\n",
      "|FUENCARRAL-EL PARDO |FUENTELARREINA      |            1446|\n",
      "|LATINA              |CUATRO VIENTOS      |            2689|\n",
      "|CARABANCHEL         |COMILLAS            |            8253|\n",
      "+--------------------+--------------------+----------------+\n",
      "only showing top 20 rows\n",
      "\r\n"
     ]
    }
   ],
   "source": [
    "nuevoDF.show()"
   ]
  },
  {
   "cell_type": "code",
   "execution_count": 15,
   "metadata": {},
   "outputs": [
    {
     "name": "stdout",
     "output_type": "stream",
     "text": [
      "+--------------------+--------------------+----------------+------------+--------------------+---------------+--------------------+----------+----------------+-----------+------------+----------------+----------------+------------------+------------------+\n",
      "|       desc_distrito|         desc_barrio|espanoleshombres|COD_DISTRITO|       DESC_DISTRITO|COD_DIST_BARRIO|         DESC_BARRIO|COD_BARRIO|COD_DIST_SECCION|COD_SECCION|COD_EDAD_INT|EspanolesHombres|EspanolesMujeres|ExtranjerosHombres|ExtranjerosMujeres|\n",
      "+--------------------+--------------------+----------------+------------+--------------------+---------------+--------------------+----------+----------------+-----------+------------+----------------+----------------+------------------+------------------+\n",
      "|TETUAN              |VALDEACEDERAS       |            9552|           6|TETUAN              |            605|VALDEACEDERAS       |         5|            6102|        102|          90|               3|               1|                 0|                 0|\n",
      "|TETUAN              |VALDEACEDERAS       |            9552|           6|TETUAN              |            605|VALDEACEDERAS       |         5|            6102|        102|          91|               1|               4|                 0|                 0|\n",
      "|TETUAN              |VALDEACEDERAS       |            9552|           6|TETUAN              |            605|VALDEACEDERAS       |         5|            6102|        102|          92|               2|               3|                 0|                 0|\n",
      "|TETUAN              |VALDEACEDERAS       |            9552|           6|TETUAN              |            605|VALDEACEDERAS       |         5|            6102|        102|          93|               1|               1|                 0|                 0|\n",
      "|TETUAN              |VALDEACEDERAS       |            9552|           6|TETUAN              |            605|VALDEACEDERAS       |         5|            6102|        102|          94|               0|               1|                 0|                 0|\n",
      "|TETUAN              |VALDEACEDERAS       |            9552|           6|TETUAN              |            605|VALDEACEDERAS       |         5|            6102|        102|          95|               0|               2|                 0|                 0|\n",
      "|TETUAN              |VALDEACEDERAS       |            9552|           6|TETUAN              |            605|VALDEACEDERAS       |         5|            6102|        102|          99|               0|               1|                 0|                 0|\n",
      "|TETUAN              |VALDEACEDERAS       |            9552|           6|TETUAN              |            605|VALDEACEDERAS       |         5|            6103|        103|           0|               9|               2|                 0|                 2|\n",
      "|TETUAN              |VALDEACEDERAS       |            9552|           6|TETUAN              |            605|VALDEACEDERAS       |         5|            6103|        103|           1|               7|               6|                 4|                 2|\n",
      "|TETUAN              |VALDEACEDERAS       |            9552|           6|TETUAN              |            605|VALDEACEDERAS       |         5|            6103|        103|           2|               4|               1|                 5|                 1|\n",
      "|TETUAN              |VALDEACEDERAS       |            9552|           6|TETUAN              |            605|VALDEACEDERAS       |         5|            6103|        103|           3|               4|               6|                 2|                 1|\n",
      "|TETUAN              |VALDEACEDERAS       |            9552|           6|TETUAN              |            605|VALDEACEDERAS       |         5|            6103|        103|           4|               4|               7|                 1|                 1|\n",
      "|TETUAN              |VALDEACEDERAS       |            9552|           6|TETUAN              |            605|VALDEACEDERAS       |         5|            6103|        103|           5|               3|              11|                 4|                 1|\n",
      "|TETUAN              |VALDEACEDERAS       |            9552|           6|TETUAN              |            605|VALDEACEDERAS       |         5|            6103|        103|           6|               5|               9|                 2|                 2|\n",
      "|TETUAN              |VALDEACEDERAS       |            9552|           6|TETUAN              |            605|VALDEACEDERAS       |         5|            6103|        103|           7|               3|               6|                 1|                 5|\n",
      "|TETUAN              |VALDEACEDERAS       |            9552|           6|TETUAN              |            605|VALDEACEDERAS       |         5|            6103|        103|           8|               8|               5|                 0|                 2|\n",
      "|TETUAN              |VALDEACEDERAS       |            9552|           6|TETUAN              |            605|VALDEACEDERAS       |         5|            6103|        103|           9|               4|               3|                 2|                 1|\n",
      "|TETUAN              |VALDEACEDERAS       |            9552|           6|TETUAN              |            605|VALDEACEDERAS       |         5|            6103|        103|          10|               4|               6|                 3|                 0|\n",
      "|TETUAN              |VALDEACEDERAS       |            9552|           6|TETUAN              |            605|VALDEACEDERAS       |         5|            6103|        103|          11|               3|              10|                 0|                 4|\n",
      "|TETUAN              |VALDEACEDERAS       |            9552|           6|TETUAN              |            605|VALDEACEDERAS       |         5|            6103|        103|          12|               7|               6|                 1|                 2|\n",
      "+--------------------+--------------------+----------------+------------+--------------------+---------------+--------------------+----------+----------------+-----------+------------+----------------+----------------+------------------+------------------+\n",
      "only showing top 20 rows\n",
      "\r\n"
     ]
    }
   ],
   "source": [
    "nuevoDF.join(df, df(\"desc_distrito\")===nuevoDF(\"desc_distrito\") && df(\"desc_barrio\")===nuevoDF(\"desc_barrio\")).show()"
   ]
  },
  {
   "cell_type": "code",
   "execution_count": 114,
   "metadata": {},
   "outputs": [
    {
     "data": {
      "text/plain": [
       "res81: org.apache.spark.sql.DataFrame = []\r\n"
      ]
     },
     "execution_count": 114,
     "metadata": {},
     "output_type": "execute_result"
    }
   ],
   "source": [
    "spark.sql(\"\"\"DROP TABLE IF EXISTS padron_tbl;\"\"\")"
   ]
  },
  {
   "cell_type": "code",
   "execution_count": 24,
   "metadata": {},
   "outputs": [
    {
     "name": "stdout",
     "output_type": "stream",
     "text": [
      "+------------+--------------------+--------------------+--------------------+\n",
      "|cod_edad_int|BARAJAS             |CENTRO              |RETIRO              |\n",
      "+------------+--------------------+--------------------+--------------------+\n",
      "|          31|                 191|                 931|                 615|\n",
      "|          85|                  95|                 354|                 535|\n",
      "|          65|                 212|                 656|                 951|\n",
      "|          53|                 342|                 754|                 788|\n",
      "|          78|                 187|                 451|                 654|\n",
      "|         108|                   1|                   1|                   1|\n",
      "|          34|                 250|                 883|                 645|\n",
      "|         101|                   5|                  14|                  19|\n",
      "|          81|                 159|                 364|                 512|\n",
      "|          28|                 172|                 863|                 620|\n",
      "|          76|                 262|                 453|                 769|\n",
      "|          27|                 145|                 745|                 618|\n",
      "|          26|                 149|                 655|                 509|\n",
      "|          44|                 431|                 948|                 834|\n",
      "|         103|                   1|                   7|                   6|\n",
      "|          12|                 278|                 281|                 448|\n",
      "|          91|                  49|                 240|                 308|\n",
      "|          22|                 189|                 306|                 428|\n",
      "|          93|                  31|                 160|                 229|\n",
      "|         111|                   0|                   1|                   1|\n",
      "+------------+--------------------+--------------------+--------------------+\n",
      "only showing top 20 rows\n",
      "\r\n"
     ]
    },
    {
     "data": {
      "text/plain": [
       "pivotDF: org.apache.spark.sql.DataFrame = [cod_edad_int: int, BARAJAS             : bigint ... 2 more fields]\r\n"
      ]
     },
     "execution_count": 24,
     "metadata": {},
     "output_type": "execute_result"
    }
   ],
   "source": [
    "val pivotDF = df.filter(col(\"desc_distrito\").contains(\"BARAJAS\").alias(\"BARAJAS\") ||\n",
    "                       col(\"desc_distrito\").contains(\"CENTRO\") ||\n",
    "                       col(\"desc_distrito\").contains(\"RETIRO\"))\n",
    "    //.groupBy(\"desc_distrito\", \"cod_edad_int\")\n",
    "    .groupBy(\"cod_edad_int\")\n",
    "    .pivot(\"desc_distrito\")\n",
    "    .agg(sum(\"espanolesmujeres\") as \"espanolesmujeres\")\n",
    "    .na.fill(0)\n",
    "    \n",
    "\n",
    "pivotDF.show()"
   ]
  },
  {
   "cell_type": "code",
   "execution_count": 26,
   "metadata": {},
   "outputs": [
    {
     "name": "stdout",
     "output_type": "stream",
     "text": [
      "+------------+--------------------+--------------------+--------------------+------------------+------------------+------------------+\n",
      "|cod_edad_int|BARAJAS             |CENTRO              |RETIRO              | porcentajeBarajas|  porcentajeCentro|  porcentajeRetiro|\n",
      "+------------+--------------------+--------------------+--------------------+------------------+------------------+------------------+\n",
      "|          31|                 191|                 931|                 615|10.995970063327576| 53.59815774323546| 35.40587219343696|\n",
      "|          85|                  95|                 354|                 535| 9.654471544715447| 35.97560975609756| 54.36991869918699|\n",
      "|          65|                 212|                 656|                 951|11.654755360087961|36.063771302913686| 52.28147333699835|\n",
      "|          53|                 342|                 754|                 788|18.152866242038215| 40.02123142250531|41.825902335456476|\n",
      "|          78|                 187|                 451|                 654|14.473684210526317|34.907120743034056| 50.61919504643962|\n",
      "|         108|                   1|                   1|                   1| 33.33333333333333| 33.33333333333333| 33.33333333333333|\n",
      "|          34|                 250|                 883|                 645|  14.0607424071991| 49.66254218222722| 36.27671541057368|\n",
      "|         101|                   5|                  14|                  19|13.157894736842104| 36.84210526315789|              50.0|\n",
      "|          81|                 159|                 364|                 512| 15.36231884057971|35.169082125603865|49.468599033816425|\n",
      "|          28|                 172|                 863|                 620|10.392749244712991| 52.14501510574018| 37.46223564954683|\n",
      "|          76|                 262|                 453|                 769|17.654986522911052|30.525606469002696| 51.81940700808625|\n",
      "|          27|                 145|                 745|                 618| 9.615384615384617| 49.40318302387268|  40.9814323607427|\n",
      "|          26|                 149|                 655|                 509|11.348057882711348| 49.88575780654988|38.766184310738765|\n",
      "|          44|                 431|                 948|                 834| 19.47582467239042| 42.83777677361048|  37.6863985539991|\n",
      "|         103|                   1|                   7|                   6| 7.142857142857142|              50.0|42.857142857142854|\n",
      "|          12|                 278|                 281|                 448|27.606752730883816|27.904667328699105|44.488579940417075|\n",
      "|          91|                  49|                 240|                 308| 8.207705192629817| 40.20100502512563| 51.59128978224455|\n",
      "|          22|                 189|                 306|                 428| 20.47670639219935| 33.15276273022752| 46.37053087757313|\n",
      "|          93|                  31|                 160|                 229| 7.380952380952381|38.095238095238095| 54.52380952380952|\n",
      "|         111|                   0|                   1|                   1|               0.0|              50.0|              50.0|\n",
      "+------------+--------------------+--------------------+--------------------+------------------+------------------+------------------+\n",
      "only showing top 20 rows\n",
      "\r\n"
     ]
    },
    {
     "data": {
      "text/plain": [
       "pivotDF2: org.apache.spark.sql.DataFrame = [cod_edad_int: int, BARAJAS             : bigint ... 5 more fields]\r\n"
      ]
     },
     "execution_count": 26,
     "metadata": {},
     "output_type": "execute_result"
    }
   ],
   "source": [
    "val pivotDF2 = pivotDF.withColumn(\"porcentajeBarajas\", col(\"BARAJAS             \")/\n",
    "                                  (col(\"BARAJAS             \")\n",
    "                                   +col(\"CENTRO              \")\n",
    "                                   +col(\"RETIRO              \"))*100)\n",
    ".withColumn(\"porcentajeCentro\", col(\"CENTRO              \")/(col(\"BARAJAS             \")\n",
    "                                   +col(\"CENTRO              \")\n",
    "                                   +col(\"RETIRO              \"))*100)\n",
    ".withColumn(\"porcentajeRetiro\", col(\"RETIRO              \")/(col(\"BARAJAS             \")\n",
    "                                   +col(\"CENTRO              \")\n",
    "                                   +col(\"RETIRO              \"))*100)\n",
    "\n",
    "pivotDF2.show()"
   ]
  },
  {
   "cell_type": "code",
   "execution_count": 27,
   "metadata": {},
   "outputs": [],
   "source": [
    "df.write.format(\"parquet\").partitionBy(\"DESC_DISTRITO\",\"DESC_BARRIO\").mode(\"overwrite\")\n",
    "    .save(\"./particion2\")"
   ]
  },
  {
   "cell_type": "code",
   "execution_count": null,
   "metadata": {},
   "outputs": [],
   "source": []
  }
 ],
 "metadata": {
  "kernelspec": {
   "display_name": "spylon-kernel",
   "language": "scala",
   "name": "spylon-kernel"
  },
  "language_info": {
   "codemirror_mode": "text/x-scala",
   "file_extension": ".scala",
   "help_links": [
    {
     "text": "MetaKernel Magics",
     "url": "https://metakernel.readthedocs.io/en/latest/source/README.html"
    }
   ],
   "mimetype": "text/x-scala",
   "name": "scala",
   "pygments_lexer": "scala",
   "version": "0.4.1"
  }
 },
 "nbformat": 4,
 "nbformat_minor": 4
}
